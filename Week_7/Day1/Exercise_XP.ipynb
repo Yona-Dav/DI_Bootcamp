{
 "cells": [
  {
   "cell_type": "markdown",
   "metadata": {},
   "source": [
    "# Exercise_XP"
   ]
  },
  {
   "cell_type": "code",
   "execution_count": 1,
   "metadata": {},
   "outputs": [
    {
     "name": "stderr",
     "output_type": "stream",
     "text": [
      "C:\\Users\\yonab\\anaconda3\\lib\\site-packages\\numpy\\_distributor_init.py:32: UserWarning: loaded more than 1 DLL from .libs:\n",
      "C:\\Users\\yonab\\anaconda3\\lib\\site-packages\\numpy\\.libs\\libopenblas.WCDJNK7YVMPZQ2ME2ZZHJJRJ3JIKNDB7.gfortran-win_amd64.dll\n",
      "C:\\Users\\yonab\\anaconda3\\lib\\site-packages\\numpy\\.libs\\libopenblas.XWYDX2IKJW2NMTWSFYNGFUWKQU3LYTCZ.gfortran-win_amd64.dll\n",
      "  stacklevel=1)\n"
     ]
    }
   ],
   "source": [
    "import pandas as pd\n",
    "import numpy as np\n",
    "import matplotlib.pyplot as plt"
   ]
  },
  {
   "cell_type": "markdown",
   "metadata": {},
   "source": [
    "# 1.\n",
    "Write a function to create a numpy array using only the input: start, length, and stop.\n",
    "\n",
    "Use the function to create an numpy array of length 100, starting from 6 and has a step of 4 between consecutive numbers"
   ]
  },
  {
   "cell_type": "code",
   "execution_count": 2,
   "metadata": {},
   "outputs": [
    {
     "name": "stdout",
     "output_type": "stream",
     "text": [
      "(array([  6,  10,  14,  18,  22,  26,  30,  34,  38,  42,  46,  50,  54,\n",
      "        58,  62,  66,  70,  74,  78,  82,  86,  90,  94,  98, 102, 106,\n",
      "       110, 114, 118, 122, 126, 130, 134, 138, 142, 146, 150, 154, 158,\n",
      "       162, 166, 170, 174, 178, 182, 186, 190, 194, 198, 202, 206, 210,\n",
      "       214, 218, 222, 226, 230, 234, 238, 242, 246, 250, 254, 258, 262,\n",
      "       266, 270, 274, 278, 282, 286, 290, 294, 298, 302, 306, 310, 314,\n",
      "       318, 322, 326, 330, 334, 338, 342, 346, 350, 354, 358, 362, 366,\n",
      "       370, 374, 378, 382, 386, 390, 394, 398, 402]), 100)\n"
     ]
    }
   ],
   "source": [
    "def nump_arr(start, length, step):\n",
    "    stop = length*step+start\n",
    "    x = np.arange(start,stop,step)\n",
    "    return x , len(x)\n",
    "\n",
    "print(nump_arr(6,100,4))\n"
   ]
  },
  {
   "cell_type": "markdown",
   "metadata": {},
   "source": [
    "# 2.\n",
    "Drop all nan values from the following numpy array.\n",
    "\n",
    "**a = np.array([1,2,3,np.nan,5,6,7,np.nan])**"
   ]
  },
  {
   "cell_type": "code",
   "execution_count": 3,
   "metadata": {},
   "outputs": [
    {
     "name": "stdout",
     "output_type": "stream",
     "text": [
      "[1. 2. 3. 5. 6. 7.]\n"
     ]
    }
   ],
   "source": [
    "a = np.array([1,2,3,np.nan,5,6,7,np.nan])\n",
    "print(a[~np.isnan(a)])"
   ]
  },
  {
   "cell_type": "markdown",
   "metadata": {},
   "source": [
    "# 3.\n",
    "Create a random numpy array that has a shape of (5, 6) filled with integers between 1 and 100.\n",
    "\n",
    "Then compute the maximum int for each row in the array"
   ]
  },
  {
   "cell_type": "code",
   "execution_count": 4,
   "metadata": {},
   "outputs": [
    {
     "name": "stdout",
     "output_type": "stream",
     "text": [
      "[[27  2 75 93 22  2]\n",
      " [43 87 86 87 82 46]\n",
      " [61 34 25 84 14 57]\n",
      " [79 94 13 81 88 31]\n",
      " [19 29 49 83 50  1]]\n",
      "93\n",
      "87\n",
      "84\n",
      "94\n",
      "83\n"
     ]
    }
   ],
   "source": [
    "z= np.random.randint(1,100,(5,6))\n",
    "\n",
    "print(z)\n",
    "\n",
    "for row in z:\n",
    "    print(row.max())"
   ]
  },
  {
   "cell_type": "markdown",
   "metadata": {},
   "source": [
    "# 4 .\n",
    "Use a pandas Series function to find the unique values and their frequencies of the following Series:\n",
    "\n",
    "**series = pd.Series(np.take(list('abcdefghijklmnop'), np.random.randint(16, size=500)))**"
   ]
  },
  {
   "cell_type": "code",
   "execution_count": 5,
   "metadata": {},
   "outputs": [
    {
     "data": {
      "text/plain": [
       "o    40\n",
       "k    39\n",
       "n    34\n",
       "l    34\n",
       "b    33\n",
       "m    32\n",
       "d    31\n",
       "e    31\n",
       "g    30\n",
       "i    30\n",
       "p    29\n",
       "j    29\n",
       "a    29\n",
       "c    28\n",
       "h    27\n",
       "f    24\n",
       "dtype: int64"
      ]
     },
     "execution_count": 5,
     "metadata": {},
     "output_type": "execute_result"
    }
   ],
   "source": [
    "series = pd.Series(np.take(list('abcdefghijklmnop'), np.random.randint(16, size=500)))\n",
    "series.value_counts()"
   ]
  },
  {
   "cell_type": "markdown",
   "metadata": {},
   "source": [
    "# 5.\n",
    "Get the day of month, week number, day of year and day of week from this pandas series\n",
    "\n",
    "**series = pd.Series(['01 Jan 2020', '10-19-2020', '20150303', '2013/04/04', '2012-05-05', '2013-06-06T12:20'])**"
   ]
  },
  {
   "cell_type": "code",
   "execution_count": 6,
   "metadata": {},
   "outputs": [
    {
     "name": "stdout",
     "output_type": "stream",
     "text": [
      "Day of month: [1, 19, 3, 4, 5, 6]\n",
      "Week number: [1, 43, 10, 14, 18, 23]\n",
      "Day of year: [1, 293, 62, 94, 126, 157]\n",
      "Day of week: [2, 0, 1, 3, 5, 3]\n"
     ]
    },
    {
     "name": "stderr",
     "output_type": "stream",
     "text": [
      "C:\\Users\\yonab\\anaconda3\\lib\\site-packages\\ipykernel_launcher.py:6: FutureWarning: Series.dt.weekofyear and Series.dt.week have been deprecated.  Please use Series.dt.isocalendar().week instead.\n",
      "  \n"
     ]
    }
   ],
   "source": [
    "from dateutil.parser import parse\n",
    "series = pd.Series(['01 Jan 2020', '10-19-2020', '20150303', '2013/04/04', '2012-05-05', '2013-06-06T12:20'])\n",
    "series = series.map(lambda x: parse(x))\n",
    "\n",
    "print(f'Day of month: {series.dt.day.tolist()}')\n",
    "print(f'Week number: {series.dt.week.tolist()}')\n",
    "print(f'Day of year: {series.dt.dayofyear.tolist()}')\n",
    "print(f'Day of week: {series.dt.dayofweek.tolist()}')\n",
    "\n"
   ]
  },
  {
   "cell_type": "markdown",
   "metadata": {},
   "source": [
    "# 6.\n",
    "Read the data from https://raw.githubusercontent.com/selva86/datasets/master/Cars93_miss.csv into a pandas dataframe.\n",
    "Do not download the file.\n",
    "\n",
    "Then\n",
    "- print how many columns are of each datatype.\n",
    "- Change the column name “Type” to “TypeOfCar” and print the head of the dataframe\n",
    "\n",
    "How many values are missing from each of the columns?\n",
    "Which columns has the most missing values? (answer with code, without sorting)\n"
   ]
  },
  {
   "cell_type": "code",
   "execution_count": 7,
   "metadata": {},
   "outputs": [
    {
     "name": "stdout",
     "output_type": "stream",
     "text": [
      "<class 'pandas.core.frame.DataFrame'>\n",
      "RangeIndex: 93 entries, 0 to 92\n",
      "Data columns (total 27 columns):\n",
      " #   Column              Non-Null Count  Dtype  \n",
      "---  ------              --------------  -----  \n",
      " 0   Manufacturer        89 non-null     object \n",
      " 1   Model               92 non-null     object \n",
      " 2   Type                90 non-null     object \n",
      " 3   Min.Price           86 non-null     float64\n",
      " 4   Price               91 non-null     float64\n",
      " 5   Max.Price           88 non-null     float64\n",
      " 6   MPG.city            84 non-null     float64\n",
      " 7   MPG.highway         91 non-null     float64\n",
      " 8   AirBags             87 non-null     object \n",
      " 9   DriveTrain          86 non-null     object \n",
      " 10  Cylinders           88 non-null     object \n",
      " 11  EngineSize          91 non-null     float64\n",
      " 12  Horsepower          86 non-null     float64\n",
      " 13  RPM                 90 non-null     float64\n",
      " 14  Rev.per.mile        87 non-null     float64\n",
      " 15  Man.trans.avail     88 non-null     object \n",
      " 16  Fuel.tank.capacity  85 non-null     float64\n",
      " 17  Passengers          91 non-null     float64\n",
      " 18  Length              89 non-null     float64\n",
      " 19  Wheelbase           92 non-null     float64\n",
      " 20  Width               87 non-null     float64\n",
      " 21  Turn.circle         88 non-null     float64\n",
      " 22  Rear.seat.room      89 non-null     float64\n",
      " 23  Luggage.room        74 non-null     float64\n",
      " 24  Weight              86 non-null     float64\n",
      " 25  Origin              88 non-null     object \n",
      " 26  Make                90 non-null     object \n",
      "dtypes: float64(18), object(9)\n",
      "memory usage: 19.7+ KB\n"
     ]
    }
   ],
   "source": [
    "df = pd.read_csv('https://raw.githubusercontent.com/selva86/datasets/master/Cars93_miss.csv')\n",
    "df.info()\n",
    "df = df.rename(columns={'Type':'TypeOfCar'})"
   ]
  },
  {
   "cell_type": "markdown",
   "metadata": {},
   "source": [
    "# 7.\n",
    "Delete the columns: “EngineSize” and “Length” in 2 different ways. Check (with code) that these columns are indeed gone."
   ]
  },
  {
   "cell_type": "code",
   "execution_count": 8,
   "metadata": {},
   "outputs": [],
   "source": [
    "df.drop(columns = {'EngineSize','Length'})\n",
    "\n",
    "del df['EngineSize']\n",
    "del df['Length']\n"
   ]
  },
  {
   "cell_type": "markdown",
   "metadata": {},
   "source": [
    "# 8.\n",
    "Join the following two dataframes by two columns, so they have only the common rows. Remove duplicate\n",
    "columns (meaning that all values are the same) to keep only one."
   ]
  },
  {
   "cell_type": "code",
   "execution_count": 9,
   "metadata": {},
   "outputs": [
    {
     "data": {
      "text/html": [
       "<div>\n",
       "<style scoped>\n",
       "    .dataframe tbody tr th:only-of-type {\n",
       "        vertical-align: middle;\n",
       "    }\n",
       "\n",
       "    .dataframe tbody tr th {\n",
       "        vertical-align: top;\n",
       "    }\n",
       "\n",
       "    .dataframe thead th {\n",
       "        text-align: right;\n",
       "    }\n",
       "</style>\n",
       "<table border=\"1\" class=\"dataframe\">\n",
       "  <thead>\n",
       "    <tr style=\"text-align: right;\">\n",
       "      <th></th>\n",
       "      <th>pazham</th>\n",
       "      <th>kilo</th>\n",
       "      <th>price</th>\n",
       "      <th>fruit</th>\n",
       "      <th>weight</th>\n",
       "    </tr>\n",
       "  </thead>\n",
       "  <tbody>\n",
       "    <tr>\n",
       "      <th>0</th>\n",
       "      <td>apple</td>\n",
       "      <td>high</td>\n",
       "      <td>14</td>\n",
       "      <td>apple</td>\n",
       "      <td>high</td>\n",
       "    </tr>\n",
       "    <tr>\n",
       "      <th>1</th>\n",
       "      <td>pine</td>\n",
       "      <td>high</td>\n",
       "      <td>1</td>\n",
       "      <td>banana</td>\n",
       "      <td>medium</td>\n",
       "    </tr>\n",
       "    <tr>\n",
       "      <th>2</th>\n",
       "      <td>apple</td>\n",
       "      <td>low</td>\n",
       "      <td>5</td>\n",
       "      <td>banana</td>\n",
       "      <td>medium</td>\n",
       "    </tr>\n",
       "    <tr>\n",
       "      <th>3</th>\n",
       "      <td>orange</td>\n",
       "      <td>high</td>\n",
       "      <td>5</td>\n",
       "      <td>banana</td>\n",
       "      <td>medium</td>\n",
       "    </tr>\n",
       "  </tbody>\n",
       "</table>\n",
       "</div>"
      ],
      "text/plain": [
       "   pazham  kilo  price   fruit  weight\n",
       "0   apple  high     14   apple    high\n",
       "1    pine  high      1  banana  medium\n",
       "2   apple   low      5  banana  medium\n",
       "3  orange  high      5  banana  medium"
      ]
     },
     "execution_count": 9,
     "metadata": {},
     "output_type": "execute_result"
    }
   ],
   "source": [
    "df1 = pd.DataFrame({'fruit': ['apple', 'banana', 'orange'] * 3,\n",
    "                'weight': ['high', 'medium', 'low'] * 3,\n",
    "                'price': np.random.randint(0, 15, 9)})\n",
    "\n",
    "df2 = pd.DataFrame({'pazham': ['apple', 'orange', 'pine'] * 2,\n",
    "                'kilo': ['high', 'low'] * 3,\n",
    "                'price': np.random.randint(0, 15, 6)})\n",
    "\n",
    "df2.merge(df1)"
   ]
  },
  {
   "cell_type": "markdown",
   "metadata": {},
   "source": [
    "# 9.\n",
    "Split this dataframe with a string column to form a dataframe with 3 columns named “STD”, “City”, and “State.”\n",
    "\n"
   ]
  },
  {
   "cell_type": "raw",
   "metadata": {},
   "source": [
    "df = pd.DataFrame([\"STD,City\\tState\",\n",
    "\"33,Kolkata\\tWest Bengal\",\n",
    "\"44,Chennai\\tTamil Nadu\",\n",
    "\"40,Hyderabad\\tTelengana\",\n",
    "\"80,Bangalore\\tKarnataka\"], columns=['row'])\n",
    "\n",
    "# Desired Output:\n",
    "# 0 STD        City        State\n",
    "# 1  33     Kolkata  West Bengal\n",
    "# 2  44     Chennai   Tamil Nadu\n",
    "# 3  40   Hyderabad    Telengana\n",
    "# 4  80   Bangalore    Karnataka"
   ]
  },
  {
   "cell_type": "code",
   "execution_count": 10,
   "metadata": {},
   "outputs": [
    {
     "data": {
      "text/html": [
       "<div>\n",
       "<style scoped>\n",
       "    .dataframe tbody tr th:only-of-type {\n",
       "        vertical-align: middle;\n",
       "    }\n",
       "\n",
       "    .dataframe tbody tr th {\n",
       "        vertical-align: top;\n",
       "    }\n",
       "\n",
       "    .dataframe thead th {\n",
       "        text-align: right;\n",
       "    }\n",
       "</style>\n",
       "<table border=\"1\" class=\"dataframe\">\n",
       "  <thead>\n",
       "    <tr style=\"text-align: right;\">\n",
       "      <th></th>\n",
       "      <th>STD</th>\n",
       "      <th>City</th>\n",
       "      <th>State</th>\n",
       "    </tr>\n",
       "  </thead>\n",
       "  <tbody>\n",
       "    <tr>\n",
       "      <th>0</th>\n",
       "      <td>STD</td>\n",
       "      <td>City</td>\n",
       "      <td>State</td>\n",
       "    </tr>\n",
       "    <tr>\n",
       "      <th>1</th>\n",
       "      <td>33</td>\n",
       "      <td>Kolkata</td>\n",
       "      <td>West Bengal</td>\n",
       "    </tr>\n",
       "    <tr>\n",
       "      <th>2</th>\n",
       "      <td>44</td>\n",
       "      <td>Chennai</td>\n",
       "      <td>Tamil Nadu</td>\n",
       "    </tr>\n",
       "    <tr>\n",
       "      <th>3</th>\n",
       "      <td>40</td>\n",
       "      <td>Hyderabad</td>\n",
       "      <td>Telengana</td>\n",
       "    </tr>\n",
       "    <tr>\n",
       "      <th>4</th>\n",
       "      <td>80</td>\n",
       "      <td>Bangalore</td>\n",
       "      <td>Karnataka</td>\n",
       "    </tr>\n",
       "  </tbody>\n",
       "</table>\n",
       "</div>"
      ],
      "text/plain": [
       "   STD       City        State\n",
       "0  STD       City        State\n",
       "1   33    Kolkata  West Bengal\n",
       "2   44    Chennai   Tamil Nadu\n",
       "3   40  Hyderabad    Telengana\n",
       "4   80  Bangalore    Karnataka"
      ]
     },
     "execution_count": 10,
     "metadata": {},
     "output_type": "execute_result"
    }
   ],
   "source": [
    "df = pd.DataFrame([\"STD,City\\tState\",\n",
    "\"33,Kolkata\\tWest Bengal\",\n",
    "\"44,Chennai\\tTamil Nadu\",\n",
    "\"40,Hyderabad\\tTelengana\",\n",
    "\"80,Bangalore\\tKarnataka\"], columns=['row'])\n",
    "df\n",
    "\n",
    "\n",
    "\n",
    "out = pd.DataFrame(df.row.str.split(',|\\t',3).tolist(),columns=['STD','City','State'])\n",
    "out"
   ]
  },
  {
   "cell_type": "markdown",
   "metadata": {},
   "source": [
    "The following questions will use the following dataset:\n",
    "\n",
    "download “auto-mpg.data” from here (http://archive.ics.uci.edu/ml/machine-learning-databases/auto-mpg/)\n",
    "into your current directory ."
   ]
  },
  {
   "cell_type": "code",
   "execution_count": 11,
   "metadata": {},
   "outputs": [
    {
     "data": {
      "text/html": [
       "<div>\n",
       "<style scoped>\n",
       "    .dataframe tbody tr th:only-of-type {\n",
       "        vertical-align: middle;\n",
       "    }\n",
       "\n",
       "    .dataframe tbody tr th {\n",
       "        vertical-align: top;\n",
       "    }\n",
       "\n",
       "    .dataframe thead th {\n",
       "        text-align: right;\n",
       "    }\n",
       "</style>\n",
       "<table border=\"1\" class=\"dataframe\">\n",
       "  <thead>\n",
       "    <tr style=\"text-align: right;\">\n",
       "      <th></th>\n",
       "      <th>mpg</th>\n",
       "      <th>cylinders</th>\n",
       "      <th>displacement</th>\n",
       "      <th>horsepower</th>\n",
       "      <th>weight</th>\n",
       "      <th>acceleration</th>\n",
       "      <th>model_year</th>\n",
       "      <th>origin</th>\n",
       "      <th>car_name</th>\n",
       "    </tr>\n",
       "  </thead>\n",
       "  <tbody>\n",
       "    <tr>\n",
       "      <th>0</th>\n",
       "      <td>18.0</td>\n",
       "      <td>8</td>\n",
       "      <td>307.0</td>\n",
       "      <td>130.0</td>\n",
       "      <td>3504.0</td>\n",
       "      <td>12.0</td>\n",
       "      <td>70</td>\n",
       "      <td>1</td>\n",
       "      <td>chevrolet chevelle malibu</td>\n",
       "    </tr>\n",
       "    <tr>\n",
       "      <th>1</th>\n",
       "      <td>15.0</td>\n",
       "      <td>8</td>\n",
       "      <td>350.0</td>\n",
       "      <td>165.0</td>\n",
       "      <td>3693.0</td>\n",
       "      <td>11.5</td>\n",
       "      <td>70</td>\n",
       "      <td>1</td>\n",
       "      <td>buick skylark 320</td>\n",
       "    </tr>\n",
       "    <tr>\n",
       "      <th>2</th>\n",
       "      <td>18.0</td>\n",
       "      <td>8</td>\n",
       "      <td>318.0</td>\n",
       "      <td>150.0</td>\n",
       "      <td>3436.0</td>\n",
       "      <td>11.0</td>\n",
       "      <td>70</td>\n",
       "      <td>1</td>\n",
       "      <td>plymouth satellite</td>\n",
       "    </tr>\n",
       "    <tr>\n",
       "      <th>3</th>\n",
       "      <td>16.0</td>\n",
       "      <td>8</td>\n",
       "      <td>304.0</td>\n",
       "      <td>150.0</td>\n",
       "      <td>3433.0</td>\n",
       "      <td>12.0</td>\n",
       "      <td>70</td>\n",
       "      <td>1</td>\n",
       "      <td>amc rebel sst</td>\n",
       "    </tr>\n",
       "    <tr>\n",
       "      <th>4</th>\n",
       "      <td>17.0</td>\n",
       "      <td>8</td>\n",
       "      <td>302.0</td>\n",
       "      <td>140.0</td>\n",
       "      <td>3449.0</td>\n",
       "      <td>10.5</td>\n",
       "      <td>70</td>\n",
       "      <td>1</td>\n",
       "      <td>ford torino</td>\n",
       "    </tr>\n",
       "  </tbody>\n",
       "</table>\n",
       "</div>"
      ],
      "text/plain": [
       "    mpg  cylinders  displacement horsepower  weight  acceleration  model_year  \\\n",
       "0  18.0          8         307.0      130.0  3504.0          12.0          70   \n",
       "1  15.0          8         350.0      165.0  3693.0          11.5          70   \n",
       "2  18.0          8         318.0      150.0  3436.0          11.0          70   \n",
       "3  16.0          8         304.0      150.0  3433.0          12.0          70   \n",
       "4  17.0          8         302.0      140.0  3449.0          10.5          70   \n",
       "\n",
       "   origin                   car_name  \n",
       "0       1  chevrolet chevelle malibu  \n",
       "1       1          buick skylark 320  \n",
       "2       1         plymouth satellite  \n",
       "3       1              amc rebel sst  \n",
       "4       1                ford torino  "
      ]
     },
     "execution_count": 11,
     "metadata": {},
     "output_type": "execute_result"
    }
   ],
   "source": [
    "names = [\"mpg\", \"cylinders\", \"displacement\", \"horsepower\", \"weight\", \"acceleration\", \"model_year\", \"origin\", \"car_name\"]\n",
    "df_mpg = pd.read_csv(\"auto-mpg.data\", header=None, names=names, delim_whitespace=True)\n",
    "df_mpg.head(5)"
   ]
  },
  {
   "cell_type": "markdown",
   "metadata": {},
   "source": [
    "# 10.\n",
    "Create a function called scatter_plot that takes the dataframe df and plots the relationship between the following two\n",
    "features:\n",
    "- displacement over x-axis\n",
    "- acceleration over y-axis"
   ]
  },
  {
   "cell_type": "code",
   "execution_count": 12,
   "metadata": {},
   "outputs": [
    {
     "data": {
      "image/png": "[encoded data removed]",
      "text/plain": [
       "<Figure size 432x288 with 1 Axes>"
      ]
     },
     "metadata": {
      "needs_background": "light"
     },
     "output_type": "display_data"
    }
   ],
   "source": [
    "def scatter_plot(df,x_axis,y_axis):\n",
    "    plt.scatter(df[x_axis],df[y_axis],color='g')\n",
    "    plt.xlabel(x_axis)\n",
    "    plt.ylabel(y_axis)\n",
    "    plt.title('Scatter Plot')\n",
    "    plt.show()\n",
    "    \n",
    "scatter_plot(df_mpg,'displacement','acceleration')"
   ]
  },
  {
   "cell_type": "markdown",
   "metadata": {},
   "source": [
    "# 11.\n",
    "Create a function bar_plot that takes the dataframe df and compares the cylinders of all the cars from 1978 model_year and toyota company"
   ]
  },
  {
   "cell_type": "code",
   "execution_count": 13,
   "metadata": {},
   "outputs": [
    {
     "data": {
      "image/png": "[encoded data removed]",
      "text/plain": [
       "<Figure size 432x288 with 1 Axes>"
      ]
     },
     "metadata": {
      "needs_background": "light"
     },
     "output_type": "display_data"
    }
   ],
   "source": [
    "def bar_plot(x,y):\n",
    "    plt.bar(x,y, label='Bars1', color ='r')\n",
    "    plt.xlabel('Cars')\n",
    "    plt.ylabel('Cylinders')\n",
    "    plt.title('Bar plot: cylinders of all the cars from 1978 and toyota company')\n",
    "    plt.show()\n",
    "\n",
    "z = df_mpg[(df_mpg['model_year']>77) & (df_mpg['car_name'].str.contains('toyota'))]\n",
    "y = z['cylinders']\n",
    "x = z['model_year']\n",
    "\n",
    "bar_plot(x,y)\n",
    "\n"
   ]
  },
  {
   "cell_type": "markdown",
   "metadata": {},
   "source": [
    "# 12.\n",
    "Create a function line_plot that takes the dataframe df and plots the change in weight throughout the years for the cars of toyota company."
   ]
  },
  {
   "cell_type": "code",
   "execution_count": 14,
   "metadata": {},
   "outputs": [
    {
     "data": {
      "image/png": "[encoded data removed]",
      "text/plain": [
       "<Figure size 432x288 with 1 Axes>"
      ]
     },
     "metadata": {
      "needs_background": "light"
     },
     "output_type": "display_data"
    }
   ],
   "source": [
    "def line_plot(x,y):\n",
    "    plt.plot(x,y, color='purple')\n",
    "    plt.title('The change in weight throughout the years for the cars of toyota company.')\n",
    "    plt.xlabel('year') \n",
    "    plt.ylabel('weight')\n",
    "    plt.show()\n",
    "\n",
    "\n",
    "\n",
    "toyota_cars = df_mpg[df_mpg['car_name'].str.contains('toyota')]\n",
    "weight = toyota_cars['weight']\n",
    "years = toyota_cars['model_year']\n",
    "\n",
    "line_plot(years,weight)\n",
    "\n"
   ]
  },
  {
   "cell_type": "markdown",
   "metadata": {},
   "source": [
    "# 13.\n",
    "Come up with your own plot that shows an interesting relationship in the auto-mpg data.\n",
    "Remember, that finding relationships between features and the target feature is valuable.\n",
    "Pick a feature here that would be a good target value and make in interesting plot.\n",
    "Don’t forget to label your axis and legends to make sure the plot is understood!\n"
   ]
  },
  {
   "cell_type": "code",
   "execution_count": 15,
   "metadata": {},
   "outputs": [
    {
     "data": {
      "image/png": "[encoded data removed]",
      "text/plain": [
       "<Figure size 432x288 with 1 Axes>"
      ]
     },
     "metadata": {
      "needs_background": "light"
     },
     "output_type": "display_data"
    }
   ],
   "source": [
    "toyota_cars = df_mpg[df_mpg['car_name'].str.contains('toyota')]\n",
    "chevrolet_cars = df_mpg[df_mpg['car_name'].str.contains('chevrolet')]\n",
    "ford_cars = df_mpg[df_mpg['car_name'].str.contains('ford')]\n",
    "\n",
    "displacement_toyota = toyota_cars['displacement']\n",
    "displacement_chevrolet = chevrolet_cars['displacement']\n",
    "displacement_ford = ford_cars['displacement']\n",
    "\n",
    "year_toyota = toyota_cars['model_year']\n",
    "year_chevrolet = chevrolet_cars['model_year']\n",
    "year_ford = ford_cars['model_year']\n",
    "\n",
    "plt.scatter(year_toyota,displacement_toyota,color='r',label='toyota', linewidth=1) \n",
    "plt.scatter(year_chevrolet,displacement_chevrolet,color='y',linewidth=1,label='chevrolet')\n",
    "plt.scatter(year_ford,displacement_ford,color='b',linewidth=1,label='ford')\n",
    "\n",
    "plt.title('Displacement over the years in differents company cars')\n",
    "\n",
    "plt.ylabel('Displacement')\n",
    "plt.xlabel('Year')\n",
    "\n",
    "plt.legend()\n",
    "plt.show()\n",
    "\n"
   ]
  },
  {
   "cell_type": "code",
   "execution_count": null,
   "metadata": {},
   "outputs": [],
   "source": []
  }
 ],
 "metadata": {
  "kernelspec": {
   "display_name": "Python 3",
   "language": "python",
   "name": "python3"
  },
  "language_info": {
   "codemirror_mode": {
    "name": "ipython",
    "version": 3
   },
   "file_extension": ".py",
   "mimetype": "text/x-python",
   "name": "python",
   "nbconvert_exporter": "python",
   "pygments_lexer": "ipython3",
   "version": "3.7.6"
  },
  "latex_envs": {
   "LaTeX_envs_menu_present": true,
   "autoclose": false,
   "autocomplete": true,
   "bibliofile": "biblio.bib",
   "cite_by": "apalike",
   "current_citInitial": 1,
   "eqLabelWithNumbers": true,
   "eqNumInitial": 1,
   "hotkeys": {
    "equation": "Ctrl-E",
    "itemize": "Ctrl-I"
   },
   "labels_anchors": false,
   "latex_user_defs": false,
   "report_style_numbering": false,
   "user_envs_cfg": false
  }
 },
 "nbformat": 4,
 "nbformat_minor": 4
}
