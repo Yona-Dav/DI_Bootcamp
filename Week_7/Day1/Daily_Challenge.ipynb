{
 "cells": [
  {
   "cell_type": "markdown",
   "metadata": {},
   "source": [
    "# Daily Challenge"
   ]
  },
  {
   "cell_type": "markdown",
   "metadata": {},
   "source": [
    "**The Power Of NumPy**\n",
    "\n",
    "We said that NumPy is pretty much a list on steroids. Let’s see that in action.\n",
    "\n",
    "For the tasks below, do them using a regular Python list implementation, and then use NumPy.\n",
    "\n",
    "- Create a table (i.e. a 2d array) of size M x N filled with random integers between 1 and 100,\n",
    "where 1 < N < 40 and 1 < M < 50.\n",
    "\n",
    "- Print out the third row\n",
    "\n",
    "- Print out the third column\n",
    "\n",
    "- Set every element in the last row equal to 7\n",
    "\n",
    "- Set every element in the last column equal the sum of the first two columns. (note: the result of\n",
    "the sum is a list which will the same length as the last column)\n",
    "\n"
   ]
  },
  {
   "cell_type": "code",
   "execution_count": 4,
   "metadata": {},
   "outputs": [],
   "source": [
    "import pandas as pd\n",
    "import numpy as np\n",
    "import random"
   ]
  },
  {
   "cell_type": "markdown",
   "metadata": {},
   "source": [
    "## Using Python"
   ]
  },
  {
   "cell_type": "code",
   "execution_count": 7,
   "metadata": {},
   "outputs": [
    {
     "data": {
      "text/plain": [
       "[[60,\n",
       "  86,\n",
       "  30,\n",
       "  88,\n",
       "  95,\n",
       "  20,\n",
       "  52,\n",
       "  17,\n",
       "  75,\n",
       "  49,\n",
       "  5,\n",
       "  98,\n",
       "  62,\n",
       "  72,\n",
       "  39,\n",
       "  49,\n",
       "  86,\n",
       "  11,\n",
       "  63,\n",
       "  68,\n",
       "  7,\n",
       "  100,\n",
       "  11,\n",
       "  74,\n",
       "  92,\n",
       "  37,\n",
       "  48],\n",
       " [44,\n",
       "  81,\n",
       "  89,\n",
       "  31,\n",
       "  24,\n",
       "  84,\n",
       "  46,\n",
       "  67,\n",
       "  22,\n",
       "  21,\n",
       "  78,\n",
       "  1,\n",
       "  57,\n",
       "  65,\n",
       "  82,\n",
       "  86,\n",
       "  82,\n",
       "  47,\n",
       "  49,\n",
       "  16,\n",
       "  34,\n",
       "  8,\n",
       "  83,\n",
       "  55,\n",
       "  36,\n",
       "  59,\n",
       "  75],\n",
       " [77,\n",
       "  92,\n",
       "  20,\n",
       "  39,\n",
       "  28,\n",
       "  49,\n",
       "  13,\n",
       "  14,\n",
       "  10,\n",
       "  84,\n",
       "  17,\n",
       "  71,\n",
       "  53,\n",
       "  96,\n",
       "  74,\n",
       "  49,\n",
       "  78,\n",
       "  64,\n",
       "  33,\n",
       "  85,\n",
       "  39,\n",
       "  78,\n",
       "  51,\n",
       "  56,\n",
       "  48,\n",
       "  47,\n",
       "  96],\n",
       " [37,\n",
       "  86,\n",
       "  15,\n",
       "  71,\n",
       "  29,\n",
       "  24,\n",
       "  75,\n",
       "  28,\n",
       "  4,\n",
       "  35,\n",
       "  7,\n",
       "  3,\n",
       "  91,\n",
       "  90,\n",
       "  77,\n",
       "  80,\n",
       "  34,\n",
       "  41,\n",
       "  6,\n",
       "  11,\n",
       "  5,\n",
       "  87,\n",
       "  28,\n",
       "  89,\n",
       "  36,\n",
       "  26,\n",
       "  58],\n",
       " [20,\n",
       "  79,\n",
       "  51,\n",
       "  71,\n",
       "  88,\n",
       "  76,\n",
       "  83,\n",
       "  87,\n",
       "  4,\n",
       "  10,\n",
       "  81,\n",
       "  52,\n",
       "  30,\n",
       "  58,\n",
       "  41,\n",
       "  45,\n",
       "  17,\n",
       "  31,\n",
       "  29,\n",
       "  11,\n",
       "  43,\n",
       "  74,\n",
       "  99,\n",
       "  27,\n",
       "  24,\n",
       "  64,\n",
       "  35],\n",
       " [19,\n",
       "  32,\n",
       "  34,\n",
       "  62,\n",
       "  80,\n",
       "  24,\n",
       "  49,\n",
       "  73,\n",
       "  37,\n",
       "  80,\n",
       "  22,\n",
       "  84,\n",
       "  37,\n",
       "  81,\n",
       "  17,\n",
       "  17,\n",
       "  64,\n",
       "  22,\n",
       "  22,\n",
       "  91,\n",
       "  60,\n",
       "  94,\n",
       "  19,\n",
       "  3,\n",
       "  92,\n",
       "  65,\n",
       "  27],\n",
       " [66,\n",
       "  52,\n",
       "  62,\n",
       "  21,\n",
       "  68,\n",
       "  84,\n",
       "  73,\n",
       "  45,\n",
       "  82,\n",
       "  36,\n",
       "  68,\n",
       "  96,\n",
       "  51,\n",
       "  24,\n",
       "  63,\n",
       "  34,\n",
       "  79,\n",
       "  16,\n",
       "  62,\n",
       "  43,\n",
       "  62,\n",
       "  90,\n",
       "  22,\n",
       "  98,\n",
       "  94,\n",
       "  71,\n",
       "  58]]"
      ]
     },
     "execution_count": 7,
     "metadata": {},
     "output_type": "execute_result"
    }
   ],
   "source": [
    "\n",
    "N = random.randint(2,40)\n",
    "M = random.randint(2,50)\n",
    "\n",
    "py_table = []\n",
    "for r in range(0, N):\n",
    "    py_table.append([random.randint(1,100) for c in range(0, M)])\n",
    "    \n",
    "    \n",
    "py_table"
   ]
  },
  {
   "cell_type": "code",
   "execution_count": 14,
   "metadata": {},
   "outputs": [
    {
     "data": {
      "text/plain": [
       "True"
      ]
     },
     "execution_count": 14,
     "metadata": {},
     "output_type": "execute_result"
    }
   ],
   "source": [
    "len(py_table) == N"
   ]
  },
  {
   "cell_type": "code",
   "execution_count": 15,
   "metadata": {},
   "outputs": [
    {
     "data": {
      "text/plain": [
       "True"
      ]
     },
     "execution_count": 15,
     "metadata": {},
     "output_type": "execute_result"
    }
   ],
   "source": [
    "len(py_table[0])==M"
   ]
  },
  {
   "cell_type": "code",
   "execution_count": 16,
   "metadata": {},
   "outputs": [
    {
     "data": {
      "text/plain": [
       "[77,\n",
       " 92,\n",
       " 20,\n",
       " 39,\n",
       " 28,\n",
       " 49,\n",
       " 13,\n",
       " 14,\n",
       " 10,\n",
       " 84,\n",
       " 17,\n",
       " 71,\n",
       " 53,\n",
       " 96,\n",
       " 74,\n",
       " 49,\n",
       " 78,\n",
       " 64,\n",
       " 33,\n",
       " 85,\n",
       " 39,\n",
       " 78,\n",
       " 51,\n",
       " 56,\n",
       " 48,\n",
       " 47,\n",
       " 96]"
      ]
     },
     "execution_count": 16,
     "metadata": {},
     "output_type": "execute_result"
    }
   ],
   "source": [
    "# The third row\n",
    "py_table[2]"
   ]
  },
  {
   "cell_type": "code",
   "execution_count": 21,
   "metadata": {},
   "outputs": [
    {
     "data": {
      "text/plain": [
       "[30, 89, 20, 15, 51, 34, 62]"
      ]
     },
     "execution_count": 21,
     "metadata": {},
     "output_type": "execute_result"
    }
   ],
   "source": [
    "#The third column\n",
    "col = [py_table[i][2] for i in range(len(py_table))]\n",
    "col"
   ]
  },
  {
   "cell_type": "code",
   "execution_count": 57,
   "metadata": {},
   "outputs": [
    {
     "data": {
      "text/plain": [
       "[]"
      ]
     },
     "execution_count": 57,
     "metadata": {},
     "output_type": "execute_result"
    }
   ],
   "source": [
    "# Set every element in the last row equal to 7 (index)\n",
    "seven = [py_table[len(py_table)-1][i] for i in range(len(py_table[len(py_table)-1])) if py_table[len(py_table)-1][i]==7]\n",
    "seven"
   ]
  },
  {
   "cell_type": "code",
   "execution_count": 58,
   "metadata": {},
   "outputs": [
    {
     "data": {
      "text/plain": [
       "{58, 84, 94, 96, 98}"
      ]
     },
     "execution_count": 58,
     "metadata": {},
     "output_type": "execute_result"
    }
   ],
   "source": [
    "# Set every element in the last column equal the sum of the first two columns\n",
    "sum_list = [item1+item2 for item1,item2 in zip(py_table[0],py_table[1])]\n",
    "element = {i for i in sum_list for j in py_table[len(py_table)-1] if i==j}\n",
    "element"
   ]
  },
  {
   "cell_type": "code",
   "execution_count": 61,
   "metadata": {},
   "outputs": [
    {
     "data": {
      "text/plain": [
       "{5, 11, 23, 24, 26}"
      ]
     },
     "execution_count": 61,
     "metadata": {},
     "output_type": "execute_result"
    }
   ],
   "source": [
    "index = {j for i in range(len(sum_list)) for j in range(len(py_table[len(py_table)-1])) if sum_list[i]==py_table[len(py_table)-1][j]}\n",
    "index"
   ]
  },
  {
   "cell_type": "markdown",
   "metadata": {},
   "source": [
    "## Using Numpy"
   ]
  },
  {
   "cell_type": "code",
   "execution_count": 37,
   "metadata": {},
   "outputs": [],
   "source": [
    "N = np.random.randint(2,40)\n",
    "M = np.random.randint(2,50)\n",
    "np_table = np.random.randint(1,100,(N,M))"
   ]
  },
  {
   "cell_type": "code",
   "execution_count": 38,
   "metadata": {},
   "outputs": [
    {
     "data": {
      "text/plain": [
       "array([[36, 97, 79, 67, 98,  2, 79, 25, 69, 84, 20, 91, 92, 73, 38, 66,\n",
       "        49, 45, 25, 83, 50, 75, 85, 40, 93],\n",
       "       [29, 21, 31, 42, 57, 38,  1, 53, 75, 91, 43, 41, 35, 73,  1, 36,\n",
       "        97, 94, 10, 83, 77, 33, 17, 10, 81],\n",
       "       [14, 10, 69, 48,  3, 35, 50, 48, 77, 29, 62,  2, 37, 72, 32,  8,\n",
       "        29, 89, 19, 76, 78, 32, 22, 57, 10],\n",
       "       [90,  2, 80, 12, 71, 94, 21, 12, 62, 66, 95, 33, 39, 94, 77, 85,\n",
       "        14, 26, 49, 55, 82, 56, 24, 85, 80],\n",
       "       [25, 58, 36, 48, 52, 94, 89, 70, 75, 71, 86, 42, 95, 85, 74, 97,\n",
       "        18, 17, 57,  1, 75, 10, 71,  9, 53],\n",
       "       [94,  5, 75, 22, 74, 54, 36, 69, 60, 99, 57,  8, 10, 73, 47, 73,\n",
       "        77, 75, 22, 98, 54,  7, 17, 79, 68],\n",
       "       [86, 89, 48, 63, 28, 87, 75, 99, 21, 34, 72,  1,  1, 72, 44, 38,\n",
       "        74, 37, 49, 65, 43, 57, 14, 84, 59],\n",
       "       [89, 70, 47, 64, 68, 34, 58, 10, 86, 99, 84, 82, 90, 53, 61, 62,\n",
       "        37, 10, 68, 21, 86, 10, 55, 72, 45],\n",
       "       [ 9,  3, 87, 55,  6, 61,  9, 65, 75, 85, 49, 18, 77, 73, 81, 47,\n",
       "        35, 70, 44, 72, 27, 91, 91, 17, 75],\n",
       "       [11, 66, 42,  7,  7, 59, 87, 36, 40, 74, 13, 81, 36, 39, 11, 10,\n",
       "        96,  7, 35, 80, 31, 46, 53, 13, 48],\n",
       "       [55,  7, 33, 83, 90, 15, 73, 56, 29, 12, 92, 43, 71, 44,  6, 67,\n",
       "        29, 59, 60, 76, 20, 52, 12, 97, 94],\n",
       "       [13,  8, 48, 49,  5, 76, 66, 25, 69, 28, 60, 93,  9, 18, 81, 52,\n",
       "        15, 74, 98, 42, 61, 98, 62, 82, 34],\n",
       "       [86, 79, 55, 17, 55, 16, 30, 20, 39, 18, 78, 45, 33, 48, 92, 40,\n",
       "        76, 62, 54, 85, 50, 50, 10, 56, 93],\n",
       "       [82, 84, 14, 49, 85, 22, 81, 56, 25, 69, 50, 50, 18,  5,  4, 38,\n",
       "        88, 14, 26, 72, 29, 38, 91, 59, 50],\n",
       "       [ 1, 63, 29, 21, 94, 35, 31, 48, 85, 46, 57, 45, 99, 77, 83, 57,\n",
       "        29, 18,  5, 25, 25,  2, 96,  5, 93],\n",
       "       [67, 91, 58, 92, 83,  6, 13, 24, 94, 31, 41, 20, 94, 83, 19, 52,\n",
       "        22, 52,  2, 60, 73, 13, 59, 22, 24],\n",
       "       [95, 27, 79, 80, 76, 15, 84, 13, 18, 88, 37, 34, 58, 96, 90, 68,\n",
       "         2, 75, 29, 68, 58, 85, 60, 65, 81],\n",
       "       [59, 30, 97, 58, 26, 43, 87, 46, 94, 93, 37, 16, 27, 44, 92, 70,\n",
       "        46, 70, 48, 52, 67, 92, 96, 75, 55],\n",
       "       [45, 15, 96, 80,  5, 99, 39, 94, 27, 34, 61, 15, 73, 32, 37, 78,\n",
       "        67,  7,  1, 73, 37, 95, 94, 52, 83],\n",
       "       [79, 36, 59, 50, 30, 93, 29,  9, 24, 38, 33, 49, 19, 80, 69, 74,\n",
       "        73, 32, 27, 32, 35,  8, 84, 67, 56],\n",
       "       [ 8,  7, 33, 94, 78, 23, 73, 61, 41, 49, 51, 92, 18, 31,  4, 64,\n",
       "        22, 58, 35, 84, 51, 69, 73, 12, 33],\n",
       "       [88, 69, 11, 92, 95, 12, 29, 31, 18, 85, 82, 76, 73, 82, 41, 94,\n",
       "        85, 67, 85, 70, 16, 17,  4, 46, 59],\n",
       "       [96, 99, 30, 69, 38, 96, 14, 86, 48, 70, 14, 59, 59, 37, 24, 72,\n",
       "         1, 95, 30, 38, 67, 73,  5, 76, 80],\n",
       "       [13,  7, 54, 48, 63, 29, 21, 81, 13, 31, 45, 57, 37, 67, 38, 53,\n",
       "        62, 58, 83, 76, 65, 44, 91, 35, 79],\n",
       "       [29, 73, 72, 73, 50, 40, 41, 38, 60, 31, 29, 30, 57, 40, 35, 49,\n",
       "        86, 58, 73, 62, 61, 72, 35, 26, 40],\n",
       "       [28, 55,  9, 91, 31, 13,  4, 22, 38, 49, 67, 44, 45, 12, 61, 86,\n",
       "        95, 38, 62, 44, 58, 54, 38,  2, 59],\n",
       "       [83, 47, 67, 36,  5, 46,  1, 84, 29, 45, 11,  2, 91, 49, 72, 73,\n",
       "        96, 44, 58, 56, 70, 99, 65, 45, 48],\n",
       "       [55, 18, 13, 24, 28, 33, 42, 60, 82, 36, 85, 11, 50, 99, 51, 70,\n",
       "        91, 97, 50, 50, 37, 80, 10,  5, 25],\n",
       "       [41, 21,  4,  9, 98, 13, 13, 14, 69, 72, 99, 97, 65, 38,  5, 10,\n",
       "        83, 33, 48, 23, 58, 21, 96, 60, 63],\n",
       "       [67, 66,  1, 15,  3, 69, 46, 29, 81, 14, 68, 81, 49, 37, 67, 64,\n",
       "        92, 99, 29, 89, 68, 79, 49, 56, 84],\n",
       "       [68, 37, 48, 31, 74, 25, 69, 69, 60, 54, 15, 61, 31, 75, 48, 87,\n",
       "        70, 66, 83, 66, 36, 59,  1,  7, 14],\n",
       "       [39, 92,  5, 16, 69, 99, 41,  3, 15, 11, 49, 15, 16, 42,  1, 18,\n",
       "        22, 57, 44, 98, 47,  5, 74, 32, 72],\n",
       "       [71, 33, 22, 31, 94, 99, 50, 65,  9,  7, 15, 41, 21, 66, 96,  6,\n",
       "        45, 12, 90,  1,  9, 63, 25, 28, 51]])"
      ]
     },
     "execution_count": 38,
     "metadata": {},
     "output_type": "execute_result"
    }
   ],
   "source": [
    "np_table"
   ]
  },
  {
   "cell_type": "code",
   "execution_count": 39,
   "metadata": {},
   "outputs": [
    {
     "data": {
      "text/plain": [
       "array([14, 10, 69, 48,  3, 35, 50, 48, 77, 29, 62,  2, 37, 72, 32,  8, 29,\n",
       "       89, 19, 76, 78, 32, 22, 57, 10])"
      ]
     },
     "execution_count": 39,
     "metadata": {},
     "output_type": "execute_result"
    }
   ],
   "source": [
    "# The third row\n",
    "np_table[2]"
   ]
  },
  {
   "cell_type": "code",
   "execution_count": 40,
   "metadata": {},
   "outputs": [
    {
     "data": {
      "text/plain": [
       "array([79, 31, 69, 80, 36, 75, 48, 47, 87, 42, 33, 48, 55, 14, 29, 58, 79,\n",
       "       97, 96, 59, 33, 11, 30, 54, 72,  9, 67, 13,  4,  1, 48,  5, 22])"
      ]
     },
     "execution_count": 40,
     "metadata": {},
     "output_type": "execute_result"
    }
   ],
   "source": [
    "# The third column\n",
    "np_table[:,2]"
   ]
  },
  {
   "cell_type": "code",
   "execution_count": 51,
   "metadata": {},
   "outputs": [
    {
     "data": {
      "text/plain": [
       "(array([9], dtype=int64),)"
      ]
     },
     "execution_count": 51,
     "metadata": {},
     "output_type": "execute_result"
    }
   ],
   "source": [
    "# Set every element in the last row equal to 7\n",
    "x = np_table[len(np_table)-1]\n",
    "np.where(x==7)"
   ]
  },
  {
   "cell_type": "code",
   "execution_count": 64,
   "metadata": {},
   "outputs": [
    {
     "data": {
      "text/plain": [
       "{3, 19}"
      ]
     },
     "execution_count": 64,
     "metadata": {},
     "output_type": "execute_result"
    }
   ],
   "source": [
    "# Set every element in the last column equal the sum of the first two columns\n",
    "sum_rows = np_table[0]+np_table[1]\n",
    "index2 = {j for i in range(len(sum_rows)) for j in range(len(np_table[len(np_table)-1])) if sum_rows[i]==np_table[len(py_table)-1][j]}\n",
    "index2"
   ]
  },
  {
   "cell_type": "code",
   "execution_count": null,
   "metadata": {},
   "outputs": [],
   "source": []
  }
 ],
 "metadata": {
  "kernelspec": {
   "display_name": "Python 3",
   "language": "python",
   "name": "python3"
  },
  "language_info": {
   "codemirror_mode": {
    "name": "ipython",
    "version": 3
   },
   "file_extension": ".py",
   "mimetype": "text/x-python",
   "name": "python",
   "nbconvert_exporter": "python",
   "pygments_lexer": "ipython3",
   "version": "3.7.6"
  },
  "latex_envs": {
   "LaTeX_envs_menu_present": true,
   "autoclose": false,
   "autocomplete": true,
   "bibliofile": "biblio.bib",
   "cite_by": "apalike",
   "current_citInitial": 1,
   "eqLabelWithNumbers": true,
   "eqNumInitial": 1,
   "hotkeys": {
    "equation": "Ctrl-E",
    "itemize": "Ctrl-I"
   },
   "labels_anchors": false,
   "latex_user_defs": false,
   "report_style_numbering": false,
   "user_envs_cfg": false
  }
 },
 "nbformat": 4,
 "nbformat_minor": 4
}
