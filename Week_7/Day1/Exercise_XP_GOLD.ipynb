{
 "cells": [
  {
   "cell_type": "markdown",
   "metadata": {},
   "source": [
    "# Exercise XP GOLD"
   ]
  },
  {
   "cell_type": "code",
   "execution_count": 1,
   "metadata": {},
   "outputs": [
    {
     "name": "stderr",
     "output_type": "stream",
     "text": [
      "C:\\Users\\yonab\\anaconda3\\lib\\site-packages\\numpy\\_distributor_init.py:32: UserWarning: loaded more than 1 DLL from .libs:\n",
      "C:\\Users\\yonab\\anaconda3\\lib\\site-packages\\numpy\\.libs\\libopenblas.WCDJNK7YVMPZQ2ME2ZZHJJRJ3JIKNDB7.gfortran-win_amd64.dll\n",
      "C:\\Users\\yonab\\anaconda3\\lib\\site-packages\\numpy\\.libs\\libopenblas.XWYDX2IKJW2NMTWSFYNGFUWKQU3LYTCZ.gfortran-win_amd64.dll\n",
      "  stacklevel=1)\n"
     ]
    }
   ],
   "source": [
    "import pandas as pd\n",
    "import numpy as np\n",
    "import matplotlib.pyplot as plt\n",
    "import random"
   ]
  },
  {
   "cell_type": "markdown",
   "metadata": {},
   "source": [
    "# 1.\n",
    "Write a function to calculate the difference between the maximum and the minimum values of a given NumPy array\n",
    "along the second axis"
   ]
  },
  {
   "cell_type": "code",
   "execution_count": 2,
   "metadata": {},
   "outputs": [
    {
     "data": {
      "text/plain": [
       "67"
      ]
     },
     "execution_count": 2,
     "metadata": {},
     "output_type": "execute_result"
    }
   ],
   "source": [
    "def difference_secaxis(arr):\n",
    "    if arr.shape[0]>1:\n",
    "        return max(arr[1,:])-min(arr[1,:])\n",
    "    else:\n",
    "        return 'The second axis doesn\\'t exist'\n",
    "\n",
    "np.random.seed(0)    \n",
    "z= np.random.randint(1,100,(5,6))\n",
    "difference_secaxis(z)"
   ]
  },
  {
   "cell_type": "markdown",
   "metadata": {},
   "source": [
    "# 2.\n",
    "Find a numpy function to limit the values of an array between two numbers.\n",
    "Use this function to limit the given array between 20 and 80\n",
    "\n",
    "**x = np.arange(100)**"
   ]
  },
  {
   "cell_type": "code",
   "execution_count": 3,
   "metadata": {},
   "outputs": [
    {
     "data": {
      "text/plain": [
       "array([20, 20, 20, 20, 20, 20, 20, 20, 20, 20, 20, 20, 20, 20, 20, 20, 20,\n",
       "       20, 20, 20, 20, 21, 22, 23, 24, 25, 26, 27, 28, 29, 30, 31, 32, 33,\n",
       "       34, 35, 36, 37, 38, 39, 40, 41, 42, 43, 44, 45, 46, 47, 48, 49, 50,\n",
       "       51, 52, 53, 54, 55, 56, 57, 58, 59, 60, 61, 62, 63, 64, 65, 66, 67,\n",
       "       68, 69, 70, 71, 72, 73, 74, 75, 76, 77, 78, 79, 80, 80, 80, 80, 80,\n",
       "       80, 80, 80, 80, 80, 80, 80, 80, 80, 80, 80, 80, 80, 80, 80])"
      ]
     },
     "execution_count": 3,
     "metadata": {},
     "output_type": "execute_result"
    }
   ],
   "source": [
    "x = np.arange(100)\n",
    "np.clip(x,20, 80)"
   ]
  },
  {
   "cell_type": "markdown",
   "metadata": {},
   "source": [
    "# 3.\n",
    "Create a NumPy array full of 1’s (there is a function for this) whatever shape you want.\n",
    "Convert it from floats to ints"
   ]
  },
  {
   "cell_type": "code",
   "execution_count": 4,
   "metadata": {},
   "outputs": [
    {
     "data": {
      "text/plain": [
       "[1, 1, 1, 1, 1, 1, 1, 1, 1, 1]"
      ]
     },
     "execution_count": 4,
     "metadata": {},
     "output_type": "execute_result"
    }
   ],
   "source": [
    "z = np.ones(10)\n",
    "y = [int(i) for i in z]\n",
    "y"
   ]
  },
  {
   "cell_type": "markdown",
   "metadata": {},
   "source": [
    "# 4 .\n",
    "The following data is currently in wide format\n",
    "Use pandas’ melt() function to convert it to long format.\n",
    "Great example of these definitions here (https://en.wikipedia.org/wiki/Wide_and_narrow_data)\n",
    "\n",
    "Use the pivot() function to convert it back to wide format.\n",
    "\n"
   ]
  },
  {
   "cell_type": "code",
   "execution_count": 5,
   "metadata": {},
   "outputs": [],
   "source": [
    "df = pd.DataFrame({'Name': {0: 'Megane', 1: 'Yonah', 2: 'Avner'}, \n",
    "                   'Course': {0: 'Masters', 1: 'Bachelors', 2: 'Graduate'}, \n",
    "                   'Nationality': {0: \"FR\", 1: \"US\", 2: \"FR\"}}) \n",
    "\n",
    "long_version = pd.melt(df, id_vars=['Name'], value_vars=['Course', 'Nationality'])\n",
    "short_version = long_version.pivot(index='variable',columns='Name',values='value')"
   ]
  },
  {
   "cell_type": "code",
   "execution_count": 6,
   "metadata": {},
   "outputs": [
    {
     "data": {
      "text/html": [
       "<div>\n",
       "<style scoped>\n",
       "    .dataframe tbody tr th:only-of-type {\n",
       "        vertical-align: middle;\n",
       "    }\n",
       "\n",
       "    .dataframe tbody tr th {\n",
       "        vertical-align: top;\n",
       "    }\n",
       "\n",
       "    .dataframe thead th {\n",
       "        text-align: right;\n",
       "    }\n",
       "</style>\n",
       "<table border=\"1\" class=\"dataframe\">\n",
       "  <thead>\n",
       "    <tr style=\"text-align: right;\">\n",
       "      <th>Name</th>\n",
       "      <th>Avner</th>\n",
       "      <th>Megane</th>\n",
       "      <th>Yonah</th>\n",
       "    </tr>\n",
       "    <tr>\n",
       "      <th>variable</th>\n",
       "      <th></th>\n",
       "      <th></th>\n",
       "      <th></th>\n",
       "    </tr>\n",
       "  </thead>\n",
       "  <tbody>\n",
       "    <tr>\n",
       "      <th>Course</th>\n",
       "      <td>Graduate</td>\n",
       "      <td>Masters</td>\n",
       "      <td>Bachelors</td>\n",
       "    </tr>\n",
       "    <tr>\n",
       "      <th>Nationality</th>\n",
       "      <td>FR</td>\n",
       "      <td>FR</td>\n",
       "      <td>US</td>\n",
       "    </tr>\n",
       "  </tbody>\n",
       "</table>\n",
       "</div>"
      ],
      "text/plain": [
       "Name            Avner   Megane      Yonah\n",
       "variable                                 \n",
       "Course       Graduate  Masters  Bachelors\n",
       "Nationality        FR       FR         US"
      ]
     },
     "execution_count": 6,
     "metadata": {},
     "output_type": "execute_result"
    }
   ],
   "source": [
    "short_version"
   ]
  },
  {
   "cell_type": "markdown",
   "metadata": {},
   "source": [
    "# 5.\n",
    "Calculate the average percent of tips out of the total bill that women leave, vs. men.\n",
    "Present the data in one dataframe"
   ]
  },
  {
   "cell_type": "code",
   "execution_count": 7,
   "metadata": {},
   "outputs": [
    {
     "data": {
      "text/html": [
       "<div>\n",
       "<style scoped>\n",
       "    .dataframe tbody tr th:only-of-type {\n",
       "        vertical-align: middle;\n",
       "    }\n",
       "\n",
       "    .dataframe tbody tr th {\n",
       "        vertical-align: top;\n",
       "    }\n",
       "\n",
       "    .dataframe thead th {\n",
       "        text-align: right;\n",
       "    }\n",
       "</style>\n",
       "<table border=\"1\" class=\"dataframe\">\n",
       "  <thead>\n",
       "    <tr style=\"text-align: right;\">\n",
       "      <th></th>\n",
       "      <th>total_bill</th>\n",
       "      <th>tip</th>\n",
       "      <th>sex</th>\n",
       "      <th>smoker</th>\n",
       "      <th>day</th>\n",
       "      <th>time</th>\n",
       "      <th>size</th>\n",
       "    </tr>\n",
       "  </thead>\n",
       "  <tbody>\n",
       "    <tr>\n",
       "      <th>0</th>\n",
       "      <td>16.99</td>\n",
       "      <td>1.01</td>\n",
       "      <td>Female</td>\n",
       "      <td>No</td>\n",
       "      <td>Sun</td>\n",
       "      <td>Dinner</td>\n",
       "      <td>2</td>\n",
       "    </tr>\n",
       "    <tr>\n",
       "      <th>1</th>\n",
       "      <td>10.34</td>\n",
       "      <td>1.66</td>\n",
       "      <td>Male</td>\n",
       "      <td>No</td>\n",
       "      <td>Sun</td>\n",
       "      <td>Dinner</td>\n",
       "      <td>3</td>\n",
       "    </tr>\n",
       "    <tr>\n",
       "      <th>2</th>\n",
       "      <td>21.01</td>\n",
       "      <td>3.50</td>\n",
       "      <td>Male</td>\n",
       "      <td>No</td>\n",
       "      <td>Sun</td>\n",
       "      <td>Dinner</td>\n",
       "      <td>3</td>\n",
       "    </tr>\n",
       "    <tr>\n",
       "      <th>3</th>\n",
       "      <td>23.68</td>\n",
       "      <td>3.31</td>\n",
       "      <td>Male</td>\n",
       "      <td>No</td>\n",
       "      <td>Sun</td>\n",
       "      <td>Dinner</td>\n",
       "      <td>2</td>\n",
       "    </tr>\n",
       "    <tr>\n",
       "      <th>4</th>\n",
       "      <td>24.59</td>\n",
       "      <td>3.61</td>\n",
       "      <td>Female</td>\n",
       "      <td>No</td>\n",
       "      <td>Sun</td>\n",
       "      <td>Dinner</td>\n",
       "      <td>4</td>\n",
       "    </tr>\n",
       "  </tbody>\n",
       "</table>\n",
       "</div>"
      ],
      "text/plain": [
       "   total_bill   tip     sex smoker  day    time  size\n",
       "0       16.99  1.01  Female     No  Sun  Dinner     2\n",
       "1       10.34  1.66    Male     No  Sun  Dinner     3\n",
       "2       21.01  3.50    Male     No  Sun  Dinner     3\n",
       "3       23.68  3.31    Male     No  Sun  Dinner     2\n",
       "4       24.59  3.61  Female     No  Sun  Dinner     4"
      ]
     },
     "execution_count": 7,
     "metadata": {},
     "output_type": "execute_result"
    }
   ],
   "source": [
    "df=pd.read_csv('https://raw.githubusercontent.com/mwaskom/seaborn-data/master/tips.csv')\n",
    "df.head()"
   ]
  },
  {
   "cell_type": "code",
   "execution_count": 8,
   "metadata": {},
   "outputs": [
    {
     "data": {
      "text/html": [
       "<div>\n",
       "<style scoped>\n",
       "    .dataframe tbody tr th:only-of-type {\n",
       "        vertical-align: middle;\n",
       "    }\n",
       "\n",
       "    .dataframe tbody tr th {\n",
       "        vertical-align: top;\n",
       "    }\n",
       "\n",
       "    .dataframe thead th {\n",
       "        text-align: right;\n",
       "    }\n",
       "</style>\n",
       "<table border=\"1\" class=\"dataframe\">\n",
       "  <thead>\n",
       "    <tr style=\"text-align: right;\">\n",
       "      <th></th>\n",
       "      <th>avg_percent_women</th>\n",
       "      <th>avg_percent_men</th>\n",
       "    </tr>\n",
       "  </thead>\n",
       "  <tbody>\n",
       "    <tr>\n",
       "      <th>0</th>\n",
       "      <td>15.69</td>\n",
       "      <td>14.89</td>\n",
       "    </tr>\n",
       "  </tbody>\n",
       "</table>\n",
       "</div>"
      ],
      "text/plain": [
       "   avg_percent_women  avg_percent_men\n",
       "0              15.69            14.89"
      ]
     },
     "execution_count": 8,
     "metadata": {},
     "output_type": "execute_result"
    }
   ],
   "source": [
    "fem_tip = (sum(df[df['sex']=='Female']['tip'])/sum(df[df['sex']=='Female']['total_bill']))*100\n",
    "male_tip = (sum(df[df['sex']=='Male']['tip'])/sum(df[df['sex']=='Male']['total_bill']))*100\n",
    "\n",
    "pd.options.display.float_format = '{:,.2f}'.format\n",
    "df1 = pd.DataFrame({\n",
    "    'avg_percent_women':[fem_tip],\n",
    "    'avg_percent_men':[male_tip]\n",
    "})\n",
    "df1"
   ]
  },
  {
   "cell_type": "markdown",
   "metadata": {},
   "source": [
    "# 6.\n",
    "Find the day and the time in which the most tip is paid (in absolute value)\n"
   ]
  },
  {
   "cell_type": "code",
   "execution_count": 9,
   "metadata": {},
   "outputs": [
    {
     "data": {
      "text/html": [
       "<div>\n",
       "<style scoped>\n",
       "    .dataframe tbody tr th:only-of-type {\n",
       "        vertical-align: middle;\n",
       "    }\n",
       "\n",
       "    .dataframe tbody tr th {\n",
       "        vertical-align: top;\n",
       "    }\n",
       "\n",
       "    .dataframe thead th {\n",
       "        text-align: right;\n",
       "    }\n",
       "</style>\n",
       "<table border=\"1\" class=\"dataframe\">\n",
       "  <thead>\n",
       "    <tr style=\"text-align: right;\">\n",
       "      <th></th>\n",
       "      <th>total_bill</th>\n",
       "      <th>tip</th>\n",
       "      <th>sex</th>\n",
       "      <th>smoker</th>\n",
       "      <th>day</th>\n",
       "      <th>time</th>\n",
       "      <th>size</th>\n",
       "      <th>%tip</th>\n",
       "    </tr>\n",
       "  </thead>\n",
       "  <tbody>\n",
       "    <tr>\n",
       "      <th>172</th>\n",
       "      <td>7.25</td>\n",
       "      <td>5.15</td>\n",
       "      <td>Male</td>\n",
       "      <td>Yes</td>\n",
       "      <td>Sun</td>\n",
       "      <td>Dinner</td>\n",
       "      <td>2</td>\n",
       "      <td>71.03</td>\n",
       "    </tr>\n",
       "  </tbody>\n",
       "</table>\n",
       "</div>"
      ],
      "text/plain": [
       "     total_bill  tip   sex smoker  day    time  size  %tip\n",
       "172        7.25 5.15  Male    Yes  Sun  Dinner     2 71.03"
      ]
     },
     "execution_count": 9,
     "metadata": {},
     "output_type": "execute_result"
    }
   ],
   "source": [
    "df['%tip'] = df['tip']/df['total_bill']*100\n",
    "df[df['%tip'] == df['%tip'].max()]"
   ]
  },
  {
   "cell_type": "markdown",
   "metadata": {},
   "source": [
    "# 7.\n",
    "With the following DataFrame, use Matplotlib create trend plots (all on the same figure)\n",
    "- y_1 according to x, color skyblue, with blue ‘o’ markers of size 8. A normal line of width 4.\n",
    "- y_2 according to x, color red, no marker, regular line with width 4\n",
    "- y_3 according to x, color green, no marker, dashed line with width 2, and a legend “y_3”"
   ]
  },
  {
   "cell_type": "code",
   "execution_count": 10,
   "metadata": {},
   "outputs": [],
   "source": [
    "df = pd.DataFrame({'x': range(1,11), \\\n",
    "                   'y_1': np.random.randn(10), \\\n",
    "                   'y_2': np.random.randn(10) + range(1,11), \\\n",
    "                   'y_3': np.random.randn(10)+range(11,21) })"
   ]
  },
  {
   "cell_type": "code",
   "execution_count": 11,
   "metadata": {},
   "outputs": [
    {
     "data": {
      "image/png": "[encoded data removed]",
      "text/plain": [
       "<Figure size 432x288 with 1 Axes>"
      ]
     },
     "metadata": {
      "needs_background": "light"
     },
     "output_type": "display_data"
    }
   ],
   "source": [
    "plt.plot(df['x'],df['y_1'],marker='o',color='skyblue',label='y1', linewidth=4,markersize=8)\n",
    "plt.plot(df['x'],df['y_2'],'r',label='y2', linewidth=4)\n",
    "plt.plot(df['x'],df['y_3'],'g--',label='y3', linewidth=2)\n",
    "\n",
    "\n",
    "plt.title('Multiline Chart')\n",
    "\n",
    "plt.ylabel('Y\\'s axis')\n",
    "plt.xlabel('X axis')\n",
    "\n",
    "plt.legend()\n",
    "plt.show()"
   ]
  },
  {
   "cell_type": "markdown",
   "metadata": {},
   "source": [
    "# 8.\n",
    "Back to the car data:\n",
    "\n",
    "- Drop all rows with nan values in the columns “RPM”, “Type” or “Price”\n",
    "- Plot the relation between the variables “RPM” and “Price” on a scatter plot\n",
    "- Color the data points by the variable “Type”\n",
    "- Add a title and axis names\n",
    "- Add a legend\n",
    "\n"
   ]
  },
  {
   "cell_type": "code",
   "execution_count": 12,
   "metadata": {},
   "outputs": [
    {
     "data": {
      "text/html": [
       "<div>\n",
       "<style scoped>\n",
       "    .dataframe tbody tr th:only-of-type {\n",
       "        vertical-align: middle;\n",
       "    }\n",
       "\n",
       "    .dataframe tbody tr th {\n",
       "        vertical-align: top;\n",
       "    }\n",
       "\n",
       "    .dataframe thead th {\n",
       "        text-align: right;\n",
       "    }\n",
       "</style>\n",
       "<table border=\"1\" class=\"dataframe\">\n",
       "  <thead>\n",
       "    <tr style=\"text-align: right;\">\n",
       "      <th></th>\n",
       "      <th>Manufacturer</th>\n",
       "      <th>Model</th>\n",
       "      <th>Type</th>\n",
       "      <th>Min.Price</th>\n",
       "      <th>Price</th>\n",
       "      <th>Max.Price</th>\n",
       "      <th>MPG.city</th>\n",
       "      <th>MPG.highway</th>\n",
       "      <th>AirBags</th>\n",
       "      <th>DriveTrain</th>\n",
       "      <th>...</th>\n",
       "      <th>Passengers</th>\n",
       "      <th>Length</th>\n",
       "      <th>Wheelbase</th>\n",
       "      <th>Width</th>\n",
       "      <th>Turn.circle</th>\n",
       "      <th>Rear.seat.room</th>\n",
       "      <th>Luggage.room</th>\n",
       "      <th>Weight</th>\n",
       "      <th>Origin</th>\n",
       "      <th>Make</th>\n",
       "    </tr>\n",
       "  </thead>\n",
       "  <tbody>\n",
       "    <tr>\n",
       "      <th>0</th>\n",
       "      <td>Acura</td>\n",
       "      <td>Integra</td>\n",
       "      <td>Small</td>\n",
       "      <td>12.90</td>\n",
       "      <td>15.90</td>\n",
       "      <td>18.80</td>\n",
       "      <td>25.00</td>\n",
       "      <td>31.00</td>\n",
       "      <td>None</td>\n",
       "      <td>Front</td>\n",
       "      <td>...</td>\n",
       "      <td>5.00</td>\n",
       "      <td>177.00</td>\n",
       "      <td>102.00</td>\n",
       "      <td>68.00</td>\n",
       "      <td>37.00</td>\n",
       "      <td>26.50</td>\n",
       "      <td>NaN</td>\n",
       "      <td>2,705.00</td>\n",
       "      <td>non-USA</td>\n",
       "      <td>Acura Integra</td>\n",
       "    </tr>\n",
       "    <tr>\n",
       "      <th>1</th>\n",
       "      <td>NaN</td>\n",
       "      <td>Legend</td>\n",
       "      <td>Midsize</td>\n",
       "      <td>29.20</td>\n",
       "      <td>33.90</td>\n",
       "      <td>38.70</td>\n",
       "      <td>18.00</td>\n",
       "      <td>25.00</td>\n",
       "      <td>Driver &amp; Passenger</td>\n",
       "      <td>Front</td>\n",
       "      <td>...</td>\n",
       "      <td>5.00</td>\n",
       "      <td>195.00</td>\n",
       "      <td>115.00</td>\n",
       "      <td>71.00</td>\n",
       "      <td>38.00</td>\n",
       "      <td>30.00</td>\n",
       "      <td>15.00</td>\n",
       "      <td>3,560.00</td>\n",
       "      <td>non-USA</td>\n",
       "      <td>Acura Legend</td>\n",
       "    </tr>\n",
       "  </tbody>\n",
       "</table>\n",
       "<p>2 rows × 27 columns</p>\n",
       "</div>"
      ],
      "text/plain": [
       "  Manufacturer    Model     Type  Min.Price  Price  Max.Price  MPG.city  \\\n",
       "0        Acura  Integra    Small      12.90  15.90      18.80     25.00   \n",
       "1          NaN   Legend  Midsize      29.20  33.90      38.70     18.00   \n",
       "\n",
       "   MPG.highway             AirBags DriveTrain  ... Passengers  Length  \\\n",
       "0        31.00                None      Front  ...       5.00  177.00   \n",
       "1        25.00  Driver & Passenger      Front  ...       5.00  195.00   \n",
       "\n",
       "   Wheelbase  Width  Turn.circle Rear.seat.room  Luggage.room   Weight  \\\n",
       "0     102.00  68.00        37.00          26.50           NaN 2,705.00   \n",
       "1     115.00  71.00        38.00          30.00         15.00 3,560.00   \n",
       "\n",
       "    Origin           Make  \n",
       "0  non-USA  Acura Integra  \n",
       "1  non-USA   Acura Legend  \n",
       "\n",
       "[2 rows x 27 columns]"
      ]
     },
     "execution_count": 12,
     "metadata": {},
     "output_type": "execute_result"
    }
   ],
   "source": [
    "url='https://raw.githubusercontent.com/selva86/datasets/master/Cars93_miss.csv'\n",
    "df = pd.read_csv(url)\n",
    "df.head(2)"
   ]
  },
  {
   "cell_type": "code",
   "execution_count": 13,
   "metadata": {},
   "outputs": [],
   "source": [
    "df.dropna(subset = [\"RPM\",\"Type\",\"Price\"], inplace=True)"
   ]
  },
  {
   "cell_type": "code",
   "execution_count": 14,
   "metadata": {},
   "outputs": [
    {
     "data": {
      "image/png": "[encoded data removed]",
      "text/plain": [
       "<Figure size 432x288 with 1 Axes>"
      ]
     },
     "metadata": {
      "needs_background": "light"
     },
     "output_type": "display_data"
    }
   ],
   "source": [
    "# Scatter Plot\n",
    "plt.scatter(df['RPM'],df['Price'])\n",
    "plt.xlabel('RPM')\n",
    "plt.ylabel('Price')\n",
    "plt.title('Relation between the variables “RPM” and “Price”')\n",
    "plt.show()"
   ]
  },
  {
   "cell_type": "code",
   "execution_count": 15,
   "metadata": {},
   "outputs": [
    {
     "data": {
      "image/png": "[encoded data removed]",
      "text/plain": [
       "<Figure size 440.25x360 with 1 Axes>"
      ]
     },
     "metadata": {
      "needs_background": "light"
     },
     "output_type": "display_data"
    }
   ],
   "source": [
    "import seaborn as sns\n",
    "sns.lmplot('RPM', 'Price', data=df, hue='Type', fit_reg=False)\n",
    "plt.title('Relation between the variables RPM and Price according to type')\n",
    "plt.show()"
   ]
  },
  {
   "cell_type": "markdown",
   "metadata": {},
   "source": [
    "# 9.\n",
    "\n",
    "Create 5 subplots in a plot, and fill each plot with a different function of your choice.\n",
    "Color each plot in a different color. (NumPy has many functions, such as np.log())\n",
    "\n",
    "After showing the plot, recreate the plots but now have the plots sharing their x and y axis.\n"
   ]
  },
  {
   "cell_type": "code",
   "execution_count": 16,
   "metadata": {},
   "outputs": [
    {
     "data": {
      "image/png": "[encoded data removed]",
      "text/plain": [
       "<Figure size 936x576 with 6 Axes>"
      ]
     },
     "metadata": {
      "needs_background": "light"
     },
     "output_type": "display_data"
    }
   ],
   "source": [
    "fig,ax = plt.subplots(2,3,figsize=(13,8))\n",
    "\n",
    "x = np.arange(0,4*np.pi,0.1)\n",
    "\n",
    "ax[0,0].plot(x,np.cos(x),'mo',label='cos(x)')\n",
    "ax[0,0].set_xlabel('x')\n",
    "ax[0,0].set_ylabel('y')\n",
    "ax[0,0].legend()\n",
    "\n",
    "ax[0,1].plot(x,np.sin(x),'g--',label='sin(x)')\n",
    "ax[0,1].set_xlabel('x')\n",
    "ax[0,1].set_ylabel('y')\n",
    "ax[0,1].legend()\n",
    "\n",
    "ax[0,2].plot(x,np.exp(x),'rv',label='exp')\n",
    "ax[0,2].set_xlabel('x')\n",
    "ax[0,2].set_ylabel('y')\n",
    "ax[0,2].legend()\n",
    "\n",
    "ax[1,0].plot(x,np.tan(x),'y',label='tan(x)')\n",
    "ax[1,0].set_xlabel('x')\n",
    "ax[1,0].set_ylabel('y')\n",
    "ax[1,0].legend()\n",
    "\n",
    "x1 = np.arange(-10,10)\n",
    "ax[1,1].plot(x1,np.abs(x1),'c.',label='abs(x)')\n",
    "ax[1,1].set_xlabel('x')\n",
    "ax[1,1].set_ylabel('y')\n",
    "ax[1,1].legend()\n",
    "\n",
    "fig.tight_layout()"
   ]
  },
  {
   "cell_type": "markdown",
   "metadata": {},
   "source": [
    "# 10.\n",
    "\n",
    "We’re going to show just how much faster NumPy is compared to regular for loops and Python lists.\n",
    "Let’s test different types on operations on different amounts of large data.\n",
    "Use the process_time function from Python’s time module to record the time taken\n",
    "\n",
    "Use the following sizes for the data:\n",
    "[10, 1000, 10000, 50000, 10000, 1000000, 5000000, 10000000]\n",
    "\n",
    "For each size, perform the following operations using a regular Python list, then using a NumPy array and time the\n",
    "entire operation.\n",
    "\n",
    "- Add 5 to each element in the array\n",
    "- create two arrays of the same size and add them together\n",
    "- create two arrays of the same size and concatenate them\n",
    "- create two arrays of the same size and compute their dot product\n",
    "\n",
    "Plot these into 4 plots. Each plot is an operations, one line showing the list and the other showing the NumPy array.\n",
    "The x axis should be the array size and the y axis should be the time it takes.\n",
    "\n",
    "To get an idea, here is a plot of the first one: (You should still write the code for it)\n"
   ]
  },
  {
   "cell_type": "code",
   "execution_count": 17,
   "metadata": {},
   "outputs": [
    {
     "name": "stdout",
     "output_type": "stream",
     "text": [
      "10\n",
      "1000\n",
      "10000\n",
      "50000\n",
      "100000\n",
      "1000000\n",
      "5000000\n",
      "10000000\n"
     ]
    },
    {
     "data": {
      "text/plain": [
       "[0, 0, 997900, 4988500, 6987600, 79172400, 386984800, 791671600]"
      ]
     },
     "execution_count": 17,
     "metadata": {},
     "output_type": "execute_result"
    }
   ],
   "source": [
    "import time\n",
    "import random\n",
    "\n",
    "size = [10, 1000, 10000, 50000, 100000, 1000000, 5000000, 10000000]\n",
    "\n",
    "py_time =[]\n",
    "def python_add_five(size):\n",
    "    for i in size:\n",
    "        print(i)\n",
    "        data = range(i)\n",
    "        start = time.time_ns()\n",
    "        data = [i+5 for i in data]\n",
    "        time_taken = time.time_ns() - start\n",
    "        py_time.append(time_taken)\n",
    "        \n",
    "python_add_five(size)\n",
    "py_time"
   ]
  },
  {
   "cell_type": "code",
   "execution_count": 18,
   "metadata": {},
   "outputs": [
    {
     "name": "stdout",
     "output_type": "stream",
     "text": [
      "10\n",
      "1000\n",
      "10000\n",
      "50000\n",
      "100000\n",
      "1000000\n",
      "5000000\n",
      "10000000\n"
     ]
    },
    {
     "data": {
      "text/plain": [
       "[997000, 0, 0, 0, 0, 997200, 3026600, 6951400]"
      ]
     },
     "execution_count": 18,
     "metadata": {},
     "output_type": "execute_result"
    }
   ],
   "source": [
    "np_time = []\n",
    "def np_add_five(size):\n",
    "    for i in size:\n",
    "        print(i)\n",
    "        data = np.arange(i)\n",
    "        start = time.time_ns()\n",
    "        data += 5\n",
    "        time_taken = time.time_ns() - start\n",
    "        np_time.append(time_taken)\n",
    "        \n",
    "np_add_five(size)\n",
    "np_time"
   ]
  },
  {
   "cell_type": "code",
   "execution_count": 19,
   "metadata": {},
   "outputs": [
    {
     "name": "stdout",
     "output_type": "stream",
     "text": [
      "10\n",
      "1000\n",
      "10000\n",
      "50000\n",
      "100000\n",
      "1000000\n",
      "5000000\n",
      "10000000\n"
     ]
    },
    {
     "data": {
      "text/plain": [
       "[0, 0, 965800, 3988500, 10972400, 105744100, 518464800, 1098660700]"
      ]
     },
     "execution_count": 19,
     "metadata": {},
     "output_type": "execute_result"
    }
   ],
   "source": [
    "py_time2 =[]\n",
    "def python_add_arr(size):\n",
    "    for i in size:\n",
    "        print(i)\n",
    "        data = range(i)\n",
    "        data2 = range(i)\n",
    "        start = time.time_ns()\n",
    "        sum_list = [item1+item2 for item1,item2 in zip(data,data2)]\n",
    "        time_taken = time.time_ns() - start\n",
    "        py_time2.append(time_taken)\n",
    "        \n",
    "python_add_arr(size)\n",
    "py_time2"
   ]
  },
  {
   "cell_type": "code",
   "execution_count": 20,
   "metadata": {},
   "outputs": [
    {
     "name": "stdout",
     "output_type": "stream",
     "text": [
      "10\n",
      "1000\n",
      "10000\n",
      "50000\n",
      "100000\n",
      "1000000\n",
      "5000000\n",
      "10000000\n"
     ]
    },
    {
     "data": {
      "text/plain": [
       "[0, 0, 0, 1003500, 990900, 2991200, 13960900, 18948000]"
      ]
     },
     "execution_count": 20,
     "metadata": {},
     "output_type": "execute_result"
    }
   ],
   "source": [
    "np_time2 = []\n",
    "def np_add_arr(size):\n",
    "    for i in size:\n",
    "        print(i)\n",
    "        data = np.arange(i)\n",
    "        data2 = np.arange(i)\n",
    "        start = time.time_ns()\n",
    "        data + data2\n",
    "        time_taken = time.time_ns() - start\n",
    "        np_time2.append(time_taken)\n",
    "        \n",
    "np_add_arr(size)\n",
    "np_time2"
   ]
  },
  {
   "cell_type": "code",
   "execution_count": 21,
   "metadata": {},
   "outputs": [
    {
     "name": "stdout",
     "output_type": "stream",
     "text": [
      "10\n",
      "1000\n",
      "10000\n",
      "50000\n",
      "100000\n",
      "1000000\n",
      "5000000\n",
      "10000000\n"
     ]
    },
    {
     "data": {
      "text/plain": [
       "[0, 0, 1026000, 1999400, 3022600, 19946600, 108946700, 331026100]"
      ]
     },
     "execution_count": 21,
     "metadata": {},
     "output_type": "execute_result"
    }
   ],
   "source": [
    "py_time3 =[]\n",
    "def python_concat_arr(size):\n",
    "    for i in size:\n",
    "        print(i)\n",
    "        data = list(range(i))\n",
    "        data2 = list(range(i))\n",
    "        start = time.time_ns()\n",
    "        concat = data+data2\n",
    "        time_taken = time.time_ns() - start\n",
    "        py_time3.append(time_taken)\n",
    "        \n",
    "python_concat_arr(size)\n",
    "py_time3"
   ]
  },
  {
   "cell_type": "code",
   "execution_count": 22,
   "metadata": {},
   "outputs": [
    {
     "name": "stdout",
     "output_type": "stream",
     "text": [
      "10\n",
      "1000\n",
      "10000\n",
      "50000\n",
      "100000\n",
      "1000000\n",
      "5000000\n",
      "10000000\n"
     ]
    },
    {
     "data": {
      "text/plain": [
       "[0, 0, 0, 1001700, 0, 4986800, 23936500, 40118400]"
      ]
     },
     "execution_count": 22,
     "metadata": {},
     "output_type": "execute_result"
    }
   ],
   "source": [
    "np_time3 = []\n",
    "def np_concat_arr(size):\n",
    "    for i in size:\n",
    "        print(i)\n",
    "        data = np.arange(i)\n",
    "        data2 = np.arange(i)\n",
    "        start = time.time_ns()\n",
    "        np.concatenate((data, data2), axis=0)\n",
    "        time_taken = time.time_ns() - start\n",
    "        np_time3.append(time_taken)\n",
    "        \n",
    "np_concat_arr(size)\n",
    "np_time3"
   ]
  },
  {
   "cell_type": "code",
   "execution_count": 23,
   "metadata": {},
   "outputs": [
    {
     "name": "stdout",
     "output_type": "stream",
     "text": [
      "10\n",
      "1000\n",
      "10000\n",
      "50000\n",
      "100000\n",
      "1000000\n",
      "5000000\n",
      "10000000\n"
     ]
    },
    {
     "data": {
      "text/plain": [
       "[0, 998200, 1994200, 10004800, 16953700, 124405300, 603373000, 1247350800]"
      ]
     },
     "execution_count": 23,
     "metadata": {},
     "output_type": "execute_result"
    }
   ],
   "source": [
    "py_time4 =[]\n",
    "def python_dot_arr(size):\n",
    "    for i in size:\n",
    "        print(i)\n",
    "        data = list(range(i))\n",
    "        data2 = list(range(i))\n",
    "        start = time.time_ns()\n",
    "        sum([x*y for x,y in zip(data,data2)])\n",
    "        time_taken = time.time_ns() - start\n",
    "        py_time4.append(time_taken)\n",
    "        \n",
    "python_dot_arr(size)\n",
    "py_time4"
   ]
  },
  {
   "cell_type": "code",
   "execution_count": 24,
   "metadata": {},
   "outputs": [
    {
     "name": "stdout",
     "output_type": "stream",
     "text": [
      "10\n",
      "1000\n",
      "10000\n",
      "50000\n",
      "100000\n",
      "1000000\n",
      "5000000\n",
      "10000000\n"
     ]
    },
    {
     "data": {
      "text/plain": [
       "[0, 0, 0, 0, 0, 984900, 5981300, 12002400]"
      ]
     },
     "execution_count": 24,
     "metadata": {},
     "output_type": "execute_result"
    }
   ],
   "source": [
    "np_time4 = []\n",
    "def np_dot_arr(size):\n",
    "    for i in size:\n",
    "        print(i)\n",
    "        data = np.arange(i)\n",
    "        data2 = np.arange(i)\n",
    "        start = time.time_ns()\n",
    "        np.dot(data, data2)\n",
    "        time_taken = time.time_ns() - start\n",
    "        np_time4.append(time_taken)\n",
    "        \n",
    "np_dot_arr(size)\n",
    "np_time4"
   ]
  },
  {
   "cell_type": "code",
   "execution_count": 25,
   "metadata": {},
   "outputs": [
    {
     "data": {
      "image/png": "[encoded data removed]",
      "text/plain": [
       "<Figure size 936x720 with 4 Axes>"
      ]
     },
     "metadata": {
      "needs_background": "light"
     },
     "output_type": "display_data"
    }
   ],
   "source": [
    "fig,ax = plt.subplots(2,2,figsize=(13,10))\n",
    "\n",
    "ax[0,0].plot(size,py_time,'b',marker='o',label='python')\n",
    "ax[0,0].plot(size,np_time,'orange',marker='o',label='numpy')\n",
    "ax[0,0].set_xlabel('size of the array')\n",
    "ax[0,0].set_ylabel('time in secondes')\n",
    "ax[0,0].set_title('Add 5 to each element')\n",
    "ax[0,0].legend()\n",
    "\n",
    "ax[0,1].plot(size,py_time2,'b',marker='o',label='python')\n",
    "ax[0,1].plot(size,np_time2,'orange',marker='o',label='numpy')\n",
    "ax[0,1].set_xlabel('size of the array')\n",
    "ax[0,1].set_ylabel('time in secondes')\n",
    "ax[0,1].set_title('Add two arrays')\n",
    "ax[0,1].legend()\n",
    "\n",
    "ax[1,0].plot(size,py_time3,'b',marker='o',label='python')\n",
    "ax[1,0].plot(size,np_time3,'orange',marker='o',label='numpy')\n",
    "ax[1,0].set_xlabel('size of the array')\n",
    "ax[1,0].set_ylabel('time in secondes')\n",
    "ax[1,0].set_title('Concat two arrays')\n",
    "ax[1,0].legend()\n",
    "\n",
    "ax[1,1].plot(size,py_time4,'b',marker='o',label='python')\n",
    "ax[1,1].plot(size,np_time4,'orange',marker='o',label='numpy')\n",
    "ax[1,1].set_xlabel('size of the array')\n",
    "ax[1,1].set_ylabel('time in secondes')\n",
    "ax[1,1].set_title('Dot two arrays')\n",
    "ax[1,1].legend()\n",
    "\n",
    "fig.tight_layout()"
   ]
  },
  {
   "cell_type": "code",
   "execution_count": null,
   "metadata": {},
   "outputs": [],
   "source": []
  }
 ],
 "metadata": {
  "kernelspec": {
   "display_name": "Python 3",
   "language": "python",
   "name": "python3"
  },
  "language_info": {
   "codemirror_mode": {
    "name": "ipython",
    "version": 3
   },
   "file_extension": ".py",
   "mimetype": "text/x-python",
   "name": "python",
   "nbconvert_exporter": "python",
   "pygments_lexer": "ipython3",
   "version": "3.7.6"
  },
  "latex_envs": {
   "LaTeX_envs_menu_present": true,
   "autoclose": false,
   "autocomplete": true,
   "bibliofile": "biblio.bib",
   "cite_by": "apalike",
   "current_citInitial": 1,
   "eqLabelWithNumbers": true,
   "eqNumInitial": 1,
   "hotkeys": {
    "equation": "Ctrl-E",
    "itemize": "Ctrl-I"
   },
   "labels_anchors": false,
   "latex_user_defs": false,
   "report_style_numbering": false,
   "user_envs_cfg": false
  }
 },
 "nbformat": 4,
 "nbformat_minor": 4
}
